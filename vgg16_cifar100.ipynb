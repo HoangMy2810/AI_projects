{
  "nbformat": 4,
  "nbformat_minor": 0,
  "metadata": {
    "colab": {
      "provenance": [],
      "authorship_tag": "ABX9TyP7SMlXQuC9ba5CzqQmZI3P",
      "include_colab_link": true
    },
    "kernelspec": {
      "name": "python3",
      "display_name": "Python 3"
    },
    "language_info": {
      "name": "python"
    }
  },
  "cells": [
    {
      "cell_type": "markdown",
      "metadata": {
        "id": "view-in-github",
        "colab_type": "text"
      },
      "source": [
        "<a href=\"https://colab.research.google.com/github/HoangMy2810/AI_projects/blob/main/vgg16_cifar100.ipynb\" target=\"_parent\"><img src=\"https://colab.research.google.com/assets/colab-badge.svg\" alt=\"Open In Colab\"/></a>"
      ]
    },
    {
      "cell_type": "code",
      "execution_count": null,
      "metadata": {
        "id": "2FEWiZEJYcCQ"
      },
      "outputs": [],
      "source": [
        "import numpy as np\n",
        "import pandas as pd\n",
        "import os\n",
        "import torch\n",
        "import torch.nn as nn\n",
        "from torchvision import transforms\n",
        "from torch.utils.data import DataLoader, Dataset\n",
        "import matplotlib.pyplot as plt\n",
        "from PIL import Image\n",
        "# LIST OF DOCUMENTS\n",
        "for dirname, _, filenames in os.walk('/kaggle/input'):\n",
        "    for filename in filenames:\n",
        "        print(os.path.join(dirname, filename))"
      ]
    },
    {
      "cell_type": "code",
      "source": [
        "def unpickle(file):\n",
        "    import pickle\n",
        "    with open(file, 'rb') as fo:\n",
        "        dict = pickle.load(fo, encoding='bytes')\n",
        "    return dict\n",
        "metadata_path = '/kaggle/input/cifar100/meta'\n",
        "metadata = unpickle(metadata_path)\n",
        "superclass_dict = dict(list(enumerate(metadata[b'coarse_label_names'])))"
      ],
      "metadata": {
        "id": "AA_cDaNNY95I"
      },
      "execution_count": null,
      "outputs": []
    },
    {
      "cell_type": "code",
      "source": [
        "# File paths\n",
        "data_train_path = \"/kaggle/input/cifar100/train\"\n",
        "data_test_path = \"/kaggle/input/cifar100/test\"\n",
        "# Read dictionary\n",
        "data_train_dict = unpickle(data_train_path)\n",
        "data_test_dict = unpickle(data_test_path)\n",
        "# Get data (change the coarse_labels if you want to use the 100 classes)\n",
        "data_train = data_train_dict[b'data']\n",
        "label_train = np.array(data_train_dict[b'coarse_labels'])\n",
        "data_test = data_test_dict[b'data']\n",
        "label_test = np.array(data_test_dict[b'coarse_labels'])\n"
      ],
      "metadata": {
        "id": "7LscGEf2ZAFE"
      },
      "execution_count": null,
      "outputs": []
    },
    {
      "cell_type": "code",
      "source": [
        "rows = 4\n",
        "cols = 4\n",
        "cnt = 0\n",
        "fig,ax = plt.subplots(rows,cols,figsize = (5,5))\n",
        "for i in range(rows):\n",
        "    for j in range(cols):\n",
        "        img = data_train[cnt]\n",
        "        title = label_train[cnt]\n",
        "        img = img.reshape(3,32,32)\n",
        "        img = img.transpose(1,2,0) # as wihtout this i was getting horizontal images\n",
        "        ax[i][j].imshow(img)\n",
        "        ax[i][j].set_title(title)\n",
        "        cnt+=1\n",
        "plt.tight_layout()\n",
        "plt.show()\n",
        "# NOTES the dataset is of shape : 50000 rows and 3072 columns ie : 32*32*3"
      ],
      "metadata": {
        "id": "hL-YQihPZGw-"
      },
      "execution_count": null,
      "outputs": []
    },
    {
      "cell_type": "code",
      "source": [
        "class CIFAR_train(Dataset):\n",
        "    def __init__(self, transform = None):\n",
        "        self.data_path = \"/kaggle/input/cifar100/train\"\n",
        "        self.data_dict = unpickle(self.data_path)\n",
        "        self.data = self.data_dict[b'data']\n",
        "        self.label = np.array(self.data_dict[b'coarse_labels'])\n",
        "        self.transform = transform\n",
        "\n",
        "    def __getitem__(self,index):\n",
        "        img = self.data[index]\n",
        "        img = img.reshape(3,32,32)\n",
        "        img = img.transpose(1,2,0)\n",
        "        if self.transform :\n",
        "            img = self.transform(Image.fromarray(img))\n",
        "        return img , self.label[index]\n",
        "\n",
        "    def __len__(self):\n",
        "        return len(self.data)\n",
        "\n",
        "class CIFAR_test(Dataset):\n",
        "    def __init__(self, transform = None):\n",
        "        self.data_path = \"/kaggle/input/cifar100/test\"\n",
        "        self.data_dict = unpickle(self.data_path)\n",
        "        self.data = self.data_dict[b'data']\n",
        "        self.label = np.array(self.data_dict[b'coarse_labels'])\n",
        "        self.transform = transform\n",
        "\n",
        "    def __getitem__(self,index):\n",
        "        img = self.data[index]\n",
        "        img = img.reshape(3,32,32)\n",
        "        img = img.transpose(1,2,0)\n",
        "        if self.transform :\n",
        "            img = self.transform(Image.fromarray(img))\n",
        "        return img , self.label[index]\n",
        "\n",
        "    def __len__(self):\n",
        "        return len(self.data)"
      ],
      "metadata": {
        "id": "AQ5nroIXZHR2"
      },
      "execution_count": null,
      "outputs": []
    },
    {
      "cell_type": "code",
      "source": [
        "transform  = transforms.Compose([\n",
        "    transforms.Resize((224,224)),\n",
        "    transforms.ToTensor(),\n",
        "    transforms.Normalize((0.5,0.5,0.5),(0.5,0.5,0.5))\n",
        "])\n",
        "train_data = CIFAR_train(transform)\n",
        "test_data = CIFAR_test(transform)\n",
        "batch_size = 32\n",
        "train_data_loader = DataLoader(train_data, batch_size=batch_size, shuffle=True)\n",
        "test_data_loader = DataLoader(test_data, batch_size=batch_size, shuffle=False)"
      ],
      "metadata": {
        "id": "T7AJbOEQZI-O"
      },
      "execution_count": null,
      "outputs": []
    },
    {
      "cell_type": "code",
      "source": [
        "example = iter(train_data_loader)\n",
        "img , labels = next(example)\n",
        "img.shape"
      ],
      "metadata": {
        "id": "hu2_MQM9ZLr_"
      },
      "execution_count": null,
      "outputs": []
    },
    {
      "cell_type": "code",
      "source": [
        "layer1 = nn.Sequential (\n",
        "            nn.Conv2d(3,64,3,1,\"same\"),\n",
        "            nn.BatchNorm2d(64),\n",
        "            nn.ReLU()\n",
        "        )\n",
        "layer2 = nn.Sequential (\n",
        "            nn.Conv2d(64,64,3,1,\"same\"),\n",
        "            nn.BatchNorm2d(64),\n",
        "            nn.ReLU(),\n",
        "            nn.MaxPool2d(2,2)\n",
        "        )\n",
        "layer3 = nn.Sequential (\n",
        "            nn.Conv2d(64,128,3,1,\"same\"),\n",
        "            nn.BatchNorm2d(128),\n",
        "            nn.ReLU()\n",
        "        )\n",
        "layer4 = nn.Sequential (\n",
        "            nn.Conv2d(128,128,3,1,\"same\"),\n",
        "            nn.BatchNorm2d(128),\n",
        "            nn.ReLU()\n",
        "        )\n",
        "layer5 = nn.Sequential (\n",
        "            nn.Conv2d(128,128,3,1,\"same\"),\n",
        "            nn.BatchNorm2d(128),\n",
        "            nn.ReLU(),\n",
        "            nn.MaxPool2d(2,2)\n",
        "        )\n",
        "layer6 = nn.Sequential (\n",
        "            nn.Conv2d(128,256,3,1,\"same\"),\n",
        "            nn.BatchNorm2d(256),\n",
        "            nn.ReLU()\n",
        "        )\n",
        "layer7 = nn.Sequential (\n",
        "            nn.Conv2d(256,256,3,1,\"same\"),\n",
        "            nn.BatchNorm2d(256),\n",
        "            nn.ReLU(),\n",
        "            nn.MaxPool2d(2,2)\n",
        "        )\n",
        "layer8 = nn.Sequential (\n",
        "            nn.Conv2d(256,512,3,1,\"same\"),\n",
        "            nn.BatchNorm2d(512),\n",
        "            nn.ReLU()\n",
        "        )\n",
        "layer9 = nn.Sequential (\n",
        "            nn.Conv2d(512,512,3,1,\"same\"),\n",
        "            nn.BatchNorm2d(512),\n",
        "            nn.ReLU()\n",
        "        )\n",
        "layer10 = nn.Sequential (\n",
        "            nn.Conv2d(512,512,3,1,\"same\"),\n",
        "            nn.BatchNorm2d(512),\n",
        "            nn.ReLU(),\n",
        "            nn.MaxPool2d(2,2)\n",
        "        )\n",
        "layer11 = nn.Sequential (\n",
        "            nn.Conv2d(512,512,3,1,\"same\"),\n",
        "            nn.BatchNorm2d(512),\n",
        "            nn.ReLU()\n",
        "        )\n",
        "layer12 = nn.Sequential (\n",
        "            nn.Conv2d(512,512,3,1,\"same\"),\n",
        "            nn.BatchNorm2d(512),\n",
        "            nn.ReLU()\n",
        "        )\n",
        "layer13 = nn.Sequential (\n",
        "            nn.Conv2d(512,512,3,1,\"same\"),\n",
        "            nn.BatchNorm2d(512),\n",
        "            nn.ReLU(),\n",
        "            nn.MaxPool2d(2,2)\n",
        "        )\n",
        "x = img\n",
        "x = layer1(x)\n",
        "x = layer2(x)\n",
        "x = layer3(x)\n",
        "x = layer4(x)\n",
        "x = layer5(x)\n",
        "x = layer6(x)\n",
        "x = layer7(x)\n",
        "x = layer8(x)\n",
        "x = layer9(x)\n",
        "x = layer10(x)\n",
        "x = layer11(x)\n",
        "x = layer12(x)\n",
        "x = layer13(x)"
      ],
      "metadata": {
        "id": "rj7uPDLYZNYA"
      },
      "execution_count": null,
      "outputs": []
    },
    {
      "cell_type": "code",
      "source": [
        "x.shape"
      ],
      "metadata": {
        "id": "bDXgQ_mOZOzo"
      },
      "execution_count": null,
      "outputs": []
    },
    {
      "cell_type": "code",
      "source": [
        "class VGG16(nn.Module):\n",
        "    def __init__(self, num_classes):\n",
        "        super().__init__()\n",
        "        self.layer1 = nn.Sequential (\n",
        "            nn.Conv2d(3,64,3,1,\"same\"),\n",
        "            nn.BatchNorm2d(64),\n",
        "            nn.ReLU()\n",
        "        )\n",
        "        self.layer2 = nn.Sequential (\n",
        "            nn.Conv2d(64,64,3,1,\"same\"),\n",
        "            nn.BatchNorm2d(64),\n",
        "            nn.ReLU(),\n",
        "            nn.MaxPool2d(2,2)\n",
        "        )\n",
        "        self.layer3 = nn.Sequential (\n",
        "            nn.Conv2d(64,128,3,1,\"same\"),\n",
        "            nn.BatchNorm2d(128),\n",
        "            nn.ReLU()\n",
        "        )\n",
        "        self.layer4 = nn.Sequential (\n",
        "            nn.Conv2d(128,128,3,1,\"same\"),\n",
        "            nn.BatchNorm2d(128),\n",
        "            nn.ReLU()\n",
        "        )\n",
        "        self.layer5 = nn.Sequential (\n",
        "            nn.Conv2d(128,128,3,1,\"same\"),\n",
        "            nn.BatchNorm2d(128),\n",
        "            nn.ReLU(),\n",
        "            nn.MaxPool2d(2,2)\n",
        "        )\n",
        "        self.layer6 = nn.Sequential (\n",
        "            nn.Conv2d(128,256,3,1,\"same\"),\n",
        "            nn.BatchNorm2d(256),\n",
        "            nn.ReLU()\n",
        "        )\n",
        "        self.layer7 = nn.Sequential (\n",
        "            nn.Conv2d(256,256,3,1,\"same\"),\n",
        "            nn.BatchNorm2d(256),\n",
        "            nn.ReLU(),\n",
        "            nn.MaxPool2d(2,2)\n",
        "        )\n",
        "        self.layer8 = nn.Sequential (\n",
        "            nn.Conv2d(256,512,3,1,\"same\"),\n",
        "            nn.BatchNorm2d(512),\n",
        "            nn.ReLU()\n",
        "        )\n",
        "        self.layer9 = nn.Sequential (\n",
        "            nn.Conv2d(512,512,3,1,\"same\"),\n",
        "            nn.BatchNorm2d(512),\n",
        "            nn.ReLU()\n",
        "        )\n",
        "        self.layer10 = nn.Sequential (\n",
        "            nn.Conv2d(512,512,3,1,\"same\"),\n",
        "            nn.BatchNorm2d(512),\n",
        "            nn.ReLU(),\n",
        "            nn.MaxPool2d(2,2)\n",
        "        )\n",
        "        self.layer11 = nn.Sequential (\n",
        "            nn.Conv2d(512,512,3,1,\"same\"),\n",
        "            nn.BatchNorm2d(512),\n",
        "            nn.ReLU()\n",
        "        )\n",
        "        self.layer12 = nn.Sequential (\n",
        "            nn.Conv2d(512,512,3,1,\"same\"),\n",
        "            nn.BatchNorm2d(512),\n",
        "            nn.ReLU()\n",
        "        )\n",
        "        self.layer13 = nn.Sequential (\n",
        "            nn.Conv2d(512,512,3,1,\"same\"),\n",
        "            nn.BatchNorm2d(512),\n",
        "            nn.ReLU(),\n",
        "            nn.MaxPool2d(2,2)\n",
        "        )\n",
        "        self.fc1 = nn.Sequential(\n",
        "            nn.Dropout(0.5),\n",
        "            nn.Linear(7*7*512,4096),\n",
        "            nn.ReLU()\n",
        "        )\n",
        "        self.fc2 = nn.Sequential(\n",
        "            nn.Dropout(0.5),\n",
        "            nn.Linear(4096,4096),\n",
        "            nn.ReLU()\n",
        "        )\n",
        "        self.fc3 = nn.Sequential(\n",
        "            nn.Linear(4096,num_classes)\n",
        "        )\n",
        "\n",
        "    def forward(self,x):\n",
        "        x = self.layer1(x)\n",
        "        x = self.layer2(x)\n",
        "        x = self.layer3(x)\n",
        "        x = self.layer4(x)\n",
        "        x = self.layer5(x)\n",
        "        x = self.layer6(x)\n",
        "        x = self.layer7(x)\n",
        "        x = self.layer8(x)\n",
        "        x = self.layer9(x)\n",
        "        x = self.layer10(x)\n",
        "        x = self.layer11(x)\n",
        "        x = self.layer12(x)\n",
        "        x = self.layer13(x)\n",
        "        x = x.view(x.shape[0],-1)\n",
        "#         as earlier the shape was\n",
        "#         or x = x.resize(x.size(0),-1)\n",
        "        x = self.fc1(x)\n",
        "        x = self.fc2(x)\n",
        "        x = self.fc3(x)\n",
        "        return x"
      ],
      "metadata": {
        "id": "HM7P2W5lZPK3"
      },
      "execution_count": null,
      "outputs": []
    },
    {
      "cell_type": "code",
      "source": [
        "device = (\"cuda\" if torch.cuda.is_available() else \"cpu\")\n",
        "device"
      ],
      "metadata": {
        "id": "ec1dQpYYZRgw"
      },
      "execution_count": null,
      "outputs": []
    },
    {
      "cell_type": "code",
      "source": [
        "model = VGG16(num_classes = 100).to(device)"
      ],
      "metadata": {
        "id": "YoeEQebiZSlI"
      },
      "execution_count": null,
      "outputs": []
    },
    {
      "cell_type": "code",
      "source": [
        "num_classes = 100\n",
        "lr = 0.01\n",
        "optimizer = torch.optim.Adam(model.parameters(),lr = lr)\n",
        "criterion = nn.CrossEntropyLoss()"
      ],
      "metadata": {
        "id": "9qM06y72ZTuo"
      },
      "execution_count": null,
      "outputs": []
    },
    {
      "cell_type": "code",
      "source": [
        "import time"
      ],
      "metadata": {
        "id": "IlAvw5AZZVAJ"
      },
      "execution_count": null,
      "outputs": []
    },
    {
      "cell_type": "code",
      "source": [
        "curr_t=time.time()\n",
        "num_steps = len(train_data_loader)\n",
        "num_epochs = 20\n",
        "train_losses = []\n",
        "for epoch in range(num_epochs):\n",
        "    print(f\"starting epoch : {epoch+1}\")\n",
        "    for i , (imgs,labels) in enumerate(train_data_loader):\n",
        "        optimizer.zero_grad()\n",
        "        imgs = imgs.to(device)\n",
        "        labels = labels.to(device)\n",
        "        y_pred = model(imgs)\n",
        "\n",
        "        loss = criterion(y_pred , labels)\n",
        "        train_losses.append(loss.item())\n",
        "        loss.backward()\n",
        "        optimizer.step()\n",
        "        if (i+1) % 100 == 0 :\n",
        "            print(f\"epoch : {epoch+1}/{num_epochs} , step : {i+1}/{num_steps} loss : {loss}\")\n",
        "print(f\"ending at loss : {loss}\")\n",
        "final_t = time.time()\n",
        "print(f\"total time taken in training {(final_t-curr_t)/60} minutes\")"
      ],
      "metadata": {
        "id": "hh_dYNlGZV3o"
      },
      "execution_count": null,
      "outputs": []
    },
    {
      "cell_type": "code",
      "source": [
        "# Save model using state_dict\n",
        "torch.save(model.state_dict(), 'model_state_dict.pth')\n",
        "\n",
        "# Save model in a normal way\n",
        "torch.save(model, 'model.pth')"
      ],
      "metadata": {
        "id": "kAOy4fh2ZXfZ"
      },
      "execution_count": null,
      "outputs": []
    }
  ]
}