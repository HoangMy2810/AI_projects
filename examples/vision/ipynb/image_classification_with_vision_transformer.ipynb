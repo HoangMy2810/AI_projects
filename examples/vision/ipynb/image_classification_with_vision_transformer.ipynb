{
  "cells": [
    {
      "cell_type": "markdown",
      "metadata": {
        "id": "NV7PBIKNGdSN"
      },
      "source": [
        "# Image classification with Vision Transformer\n",
        "\n",
        "**Description:** Implementing the Vision Transformer (ViT) model for image classification."
      ]
    },
    {
      "cell_type": "markdown",
      "metadata": {
        "id": "pN78OX5kGdSW"
      },
      "source": [
        "## Introduction\n",
        "\n",
        "This example implements the [Vision Transformer (ViT)] for image classification,\n",
        "and demonstrates it on the CIFAR-100 dataset [60.000 images (50.000 for training, 10.000 for testing), 100 classes].\n",
        "The ViT model applies the Transformer architecture with self-attention to sequences of\n",
        "image patches, without using convolution layers."
      ]
    },
    {
      "cell_type": "markdown",
      "metadata": {
        "id": "Wu_4T1LFGdSX"
      },
      "source": [
        "## Setup Keras as backend and import library"
      ]
    },
    {
      "cell_type": "code",
      "execution_count": 1,
      "metadata": {
        "id": "5LsUJnDnGdSY"
      },
      "outputs": [],
      "source": [
        "import os\n",
        "\n",
        "os.environ[\"KERAS_BACKEND\"] = \"jax\"  # @param [\"tensorflow\", \"jax\", \"torch\"]\n",
        "\n",
        "import keras\n",
        "from keras import layers\n",
        "from keras import ops\n",
        "\n",
        "import numpy as np\n",
        "import matplotlib.pyplot as plt"
      ]
    },
    {
      "cell_type": "markdown",
      "metadata": {
        "id": "cJ8zm9lOGdSb"
      },
      "source": [
        "## Prepare the data"
      ]
    },
    {
      "cell_type": "code",
      "execution_count": 2,
      "metadata": {
        "colab": {
          "base_uri": "https://localhost:8080/"
        },
        "id": "47l6weWiGdSc",
        "outputId": "2a3e931b-3158-4b2d-b5e5-ed45eba52d89"
      },
      "outputs": [
        {
          "output_type": "stream",
          "name": "stdout",
          "text": [
            "Downloading data from https://www.cs.toronto.edu/~kriz/cifar-100-python.tar.gz\n",
            "\u001b[1m169001437/169001437\u001b[0m \u001b[32m━━━━━━━━━━━━━━━━━━━━\u001b[0m\u001b[37m\u001b[0m \u001b[1m4s\u001b[0m 0us/step\n",
            "x_train shape: (50000, 32, 32, 3) - y_train shape: (50000, 1)\n",
            "x_test shape: (10000, 32, 32, 3) - y_test shape: (10000, 1)\n"
          ]
        }
      ],
      "source": [
        "num_classes = 100\n",
        "input_shape = (32, 32, 3)\n",
        "\n",
        "(x_train, y_train), (x_test, y_test) = keras.datasets.cifar100.load_data()\n",
        "\n",
        "print(f\"x_train shape: {x_train.shape} - y_train shape: {y_train.shape}\")\n",
        "print(f\"x_test shape: {x_test.shape} - y_test shape: {y_test.shape}\")\n"
      ]
    },
    {
      "cell_type": "code",
      "source": [
        "from google.colab import drive\n",
        "drive.mount('/content/gdrive')"
      ],
      "metadata": {
        "id": "n-JihsSLJjar",
        "outputId": "a7f285f0-7ada-4bee-8990-842c0ed8d6eb",
        "colab": {
          "base_uri": "https://localhost:8080/"
        }
      },
      "execution_count": 3,
      "outputs": [
        {
          "output_type": "stream",
          "name": "stdout",
          "text": [
            "Mounted at /content/gdrive\n"
          ]
        }
      ]
    },
    {
      "cell_type": "markdown",
      "metadata": {
        "id": "OWxv3y-VGdSd"
      },
      "source": [
        "## Configure the hyperparameters"
      ]
    },
    {
      "cell_type": "code",
      "execution_count": 4,
      "metadata": {
        "id": "kkthQpsTGdSf"
      },
      "outputs": [],
      "source": [
        "learning_rate = 0.001\n",
        "weight_decay = 0.0001\n",
        "batch_size = 256\n",
        "num_epochs = 20  # For real training, use num_epochs=100. 10 is a test value\n",
        "image_size = 72  # We'll resize input images to this size\n",
        "patch_size = 6  # Size of the patches to be extract from the input images\n",
        "num_patches = (image_size // patch_size) ** 2 #Number of patches per image\n",
        "projection_dim = 64 #dmodel\n",
        "num_heads = 4 #Number of heads for Multi-head attention layers\n",
        "transformer_units = [\n",
        "    projection_dim * 2,\n",
        "    projection_dim,\n",
        "]  # Size of the transformer layers\n",
        "transformer_layers = 8\n",
        "mlp_head_units = [\n",
        "    2048,\n",
        "    1024,\n",
        "]  # Size of the dense layers of the final classifier\n"
      ]
    },
    {
      "cell_type": "markdown",
      "metadata": {
        "id": "QmvsP0PmGdSh"
      },
      "source": [
        "## Use data augmentation"
      ]
    },
    {
      "cell_type": "code",
      "execution_count": 5,
      "metadata": {
        "id": "M7aFQgreGdSi"
      },
      "outputs": [],
      "source": [
        "data_augmentation = keras.Sequential(\n",
        "    [\n",
        "        layers.Normalization(), #chuẩn hóa độ sáng, độ tương phản\n",
        "        layers.Resizing(image_size, image_size),\n",
        "        layers.RandomFlip(\"horizontal\"), #lật ngang ngẫu nhiên\n",
        "        layers.RandomRotation(factor=0.02), #xoay ảnh ngẫu nhiên với biên độ xoay 2% (+- 7.2 độ)\n",
        "        layers.RandomZoom(height_factor=0.2, width_factor=0.2), #phóng to, thu nhỏ với tỷ lệ tối đa 20%\n",
        "    ],\n",
        "    name=\"data_augmentation\",\n",
        ")\n",
        "# tính toán trung bình và độ lệch chuẩn của toàn bộ ảnh trong x_train, lưu trữ trong các thuộc tính của lớp Normalization\n",
        "data_augmentation.layers[0].adapt(x_train)\n"
      ]
    },
    {
      "cell_type": "markdown",
      "metadata": {
        "id": "5sB2wZUTGdSj"
      },
      "source": [
        "## Implement multilayer perceptron (MLP)"
      ]
    },
    {
      "cell_type": "code",
      "execution_count": 6,
      "metadata": {
        "id": "P2GeKYAMGdSk"
      },
      "outputs": [],
      "source": [
        "\n",
        "def mlp(x, hidden_units, dropout_rate):\n",
        "    for units in hidden_units:\n",
        "      #tạo 1 lớp dense với units neuron, áp dụng GELU\n",
        "        x = layers.Dense(units, activation=keras.activations.gelu)(x)\n",
        "        x = layers.Dropout(dropout_rate)(x)\n",
        "    return x\n"
      ]
    },
    {
      "cell_type": "markdown",
      "metadata": {
        "id": "yaSvNpI3GdSl"
      },
      "source": [
        "## Implement patch creation as a layer"
      ]
    },
    {
      "cell_type": "code",
      "execution_count": 7,
      "metadata": {
        "id": "KnBXBt_uGdSl"
      },
      "outputs": [],
      "source": [
        "\n",
        "class Patches(layers.Layer):\n",
        "    def __init__(self, patch_size):\n",
        "        super().__init__()\n",
        "        self.patch_size = patch_size\n",
        "\n",
        "    def call(self, images):\n",
        "        input_shape = ops.shape(images)\n",
        "        batch_size = input_shape[0]\n",
        "        height = input_shape[1]\n",
        "        width = input_shape[2]\n",
        "        channels = input_shape[3]\n",
        "        num_patches_h = height // self.patch_size\n",
        "        num_patches_w = width // self.patch_size\n",
        "        patches = keras.ops.image.extract_patches(images, size=self.patch_size)\n",
        "        patches = ops.reshape(\n",
        "            patches,\n",
        "            (\n",
        "                batch_size,\n",
        "                num_patches_h * num_patches_w, #number of patches\n",
        "                self.patch_size * self.patch_size * channels, #size of vector of each patch\n",
        "            ),\n",
        "        )\n",
        "        return patches\n",
        "\n",
        "    def get_config(self):\n",
        "        config = super().get_config()\n",
        "        config.update({\"patch_size\": self.patch_size})\n",
        "        return config\n"
      ]
    },
    {
      "cell_type": "markdown",
      "metadata": {
        "id": "22RyVW-rGdSm"
      },
      "source": [
        "Let's display patches for a sample image"
      ]
    },
    {
      "cell_type": "code",
      "execution_count": 8,
      "metadata": {
        "colab": {
          "base_uri": "https://localhost:8080/",
          "height": 742
        },
        "id": "HahaCu1pGdSm",
        "outputId": "ecf05dd6-7f2a-4eeb-d595-357585f648b3"
      },
      "outputs": [
        {
          "output_type": "stream",
          "name": "stdout",
          "text": [
            "Image size: 72 X 72\n",
            "Patch size: 6 X 6\n",
            "Patches per image: 144\n",
            "Elements per patch: 108\n"
          ]
        },
        {
          "output_type": "display_data",
          "data": {
            "text/plain": [
              "<Figure size 400x400 with 1 Axes>"
            ],
            "image/png": "[encoded data removed]"
          },
          "metadata": {}
        },
        {
          "output_type": "display_data",
          "data": {
            "text/plain": [
              "<Figure size 400x400 with 144 Axes>"
            ],
            "image/png": "[encoded data removed]"
          },
          "metadata": {}
        }
      ],
      "source": [
        "plt.figure(figsize=(4, 4))\n",
        "image = x_train[np.random.choice(range(x_train.shape[0]))]\n",
        "plt.imshow(image.astype(\"uint8\"))\n",
        "plt.axis(\"off\")\n",
        "\n",
        "resized_image = ops.image.resize(\n",
        "    ops.convert_to_tensor([image]), size=(image_size, image_size)\n",
        ")\n",
        "patches = Patches(patch_size)(resized_image)\n",
        "print(f\"Image size: {image_size} X {image_size}\")\n",
        "print(f\"Patch size: {patch_size} X {patch_size}\")\n",
        "print(f\"Patches per image: {patches.shape[1]}\")\n",
        "print(f\"Elements per patch: {patches.shape[-1]}\")\n",
        "\n",
        "n = int(np.sqrt(patches.shape[1]))\n",
        "plt.figure(figsize=(4, 4))\n",
        "for i, patch in enumerate(patches[0]):\n",
        "    ax = plt.subplot(n, n, i + 1)\n",
        "    patch_img = ops.reshape(patch, (patch_size, patch_size, 3))\n",
        "    plt.imshow(ops.convert_to_numpy(patch_img).astype(\"uint8\"))\n",
        "    plt.axis(\"off\")"
      ]
    },
    {
      "cell_type": "markdown",
      "metadata": {
        "id": "-gDjBBRxGdSn"
      },
      "source": [
        "## Implement the patch encoding layer\n",
        "\n",
        "The `PatchEncoder` layer will linearly transform a patch by projecting it into a\n",
        "vector of size `projection_dim`. In addition, it adds a learnable position\n",
        "embedding to the projected vector."
      ]
    },
    {
      "cell_type": "code",
      "execution_count": 9,
      "metadata": {
        "id": "E6SOht2DGdSn"
      },
      "outputs": [],
      "source": [
        "\n",
        "class PatchEncoder(layers.Layer):\n",
        "    def __init__(self, num_patches, projection_dim):\n",
        "        super().__init__()\n",
        "        self.num_patches = num_patches\n",
        "        self.projection = layers.Dense(units=projection_dim)\n",
        "        self.position_embedding = layers.Embedding(\n",
        "            input_dim=num_patches, output_dim=projection_dim\n",
        "        )\n",
        "\n",
        "    def call(self, patch):\n",
        "        positions = ops.expand_dims(\n",
        "            ops.arange(start=0, stop=self.num_patches, step=1), axis=0\n",
        "        )\n",
        "        projected_patches = self.projection(patch)\n",
        "        encoded = projected_patches + self.position_embedding(positions)\n",
        "        return encoded\n",
        "\n",
        "    def get_config(self):\n",
        "        config = super().get_config()\n",
        "        config.update({\"num_patches\": self.num_patches})\n",
        "        return config\n"
      ]
    },
    {
      "cell_type": "markdown",
      "metadata": {
        "id": "vVs0LmQPGdSo"
      },
      "source": [
        "## Build the ViT model\n",
        "\n",
        "The ViT model consists of multiple Transformer blocks,\n",
        "which use the `layers.MultiHeadAttention` layer as a self-attention mechanism\n",
        "applied to the sequence of patches. The Transformer blocks produce a\n",
        "`[batch_size, num_patches, projection_dim]` tensor, which is processed via an\n",
        "classifier head with softmax to produce the final class probabilities output.\n",
        "\n",
        "Unlike the technique described in the [paper](https://arxiv.org/abs/2010.11929),\n",
        "which prepends a learnable embedding to the sequence of encoded patches to serve\n",
        "as the image representation, all the outputs of the final Transformer block are\n",
        "reshaped with `layers.Flatten()` and used as the image\n",
        "representation input to the classifier head.\n",
        "Note that the `layers.GlobalAveragePooling1D` layer\n",
        "could also be used instead to aggregate the outputs of the Transformer block,\n",
        "especially when the number of patches and the projection dimensions are large."
      ]
    },
    {
      "cell_type": "code",
      "execution_count": 10,
      "metadata": {
        "id": "xY-IMnq2GdSp"
      },
      "outputs": [],
      "source": [
        "\n",
        "def create_vit_classifier():\n",
        "    inputs = keras.Input(shape=input_shape)\n",
        "    # Augment data.\n",
        "    augmented = data_augmentation(inputs)\n",
        "    # Create patches.\n",
        "    patches = Patches(patch_size)(augmented)\n",
        "    # Encode patches.\n",
        "    encoded_patches = PatchEncoder(num_patches, projection_dim)(patches)\n",
        "\n",
        "    # Create multiple layers of the Transformer block.\n",
        "    for _ in range(transformer_layers):\n",
        "        # Layer normalization 1.\n",
        "        x1 = layers.LayerNormalization(epsilon=1e-6)(encoded_patches)\n",
        "        # Create a multi-head attention layer.\n",
        "        attention_output = layers.MultiHeadAttention(\n",
        "            num_heads=num_heads, key_dim=projection_dim, dropout=0.1\n",
        "        )(x1, x1)\n",
        "        #Multi-Head Attention nhận hai đầu vào (query và key-value). Trong trường hợp này, cả query và key-value đều là x1, cho thấy rằng đây là self-attention\n",
        "        # Skip connection 1.\n",
        "        x2 = layers.Add()([attention_output, encoded_patches])\n",
        "        # Layer normalization 2.\n",
        "        x3 = layers.LayerNormalization(epsilon=1e-6)(x2)\n",
        "        # MLP.\n",
        "        x3 = mlp(x3, hidden_units=transformer_units, dropout_rate=0.1)\n",
        "        # Skip connection 2.\n",
        "        encoded_patches = layers.Add()([x3, x2])\n",
        "\n",
        "    # Create a [batch_size, projection_dim] tensor.\n",
        "    representation = layers.LayerNormalization(epsilon=1e-6)(encoded_patches)\n",
        "    representation = layers.Flatten()(representation)\n",
        "    representation = layers.Dropout(0.5)(representation)\n",
        "    # Add MLP.\n",
        "    features = mlp(representation, hidden_units=mlp_head_units, dropout_rate=0.5)\n",
        "    # Classify outputs.\n",
        "    logits = layers.Dense(num_classes)(features)\n",
        "    # Create the Keras model.\n",
        "    model = keras.Model(inputs=inputs, outputs=logits)\n",
        "    return model\n"
      ]
    },
    {
      "cell_type": "markdown",
      "metadata": {
        "id": "Vmc-R64MGdSq"
      },
      "source": [
        "## Compile, train, and evaluate the mode"
      ]
    },
    {
      "cell_type": "code",
      "execution_count": null,
      "metadata": {
        "id": "OoQ7JAjTGdSq"
      },
      "outputs": [],
      "source": [
        "\n",
        "# model_save_folder = \"/content/gdrive/My Drive/models\"\n",
        "# os.makedirs(model_save_folder, exist_ok=True)\n",
        "\n",
        "# def run_experiment(model):\n",
        "#     optimizer = keras.optimizers.AdamW(\n",
        "#         learning_rate=learning_rate, weight_decay=weight_decay\n",
        "#     )\n",
        "\n",
        "#     model.compile(\n",
        "#         optimizer=optimizer,\n",
        "#         loss=keras.losses.SparseCategoricalCrossentropy(from_logits=True),\n",
        "#         metrics=[\n",
        "#             keras.metrics.SparseCategoricalAccuracy(name=\"accuracy\"),\n",
        "#             keras.metrics.SparseTopKCategoricalAccuracy(5, name=\"top-5-accuracy\"),\n",
        "#         ],\n",
        "#     )\n",
        "\n",
        "#     # Define callback for saving models\n",
        "#     checkpoint_filepath = os.path.join(model_save_folder, \"weights-{epoch:02d}-{val_accuracy:.2f}.weights.h5\")\n",
        "#     checkpoint_callback = keras.callbacks.ModelCheckpoint(\n",
        "#     filepath=checkpoint_filepath,\n",
        "#     monitor=\"val_accuracy\",\n",
        "#     save_best_only=False,\n",
        "#     save_weights_only=True,\n",
        "#     )\n",
        "\n",
        "#     history = model.fit(\n",
        "#         x=x_train,\n",
        "#         y=y_train,\n",
        "#         batch_size=batch_size,\n",
        "#         epochs=40,\n",
        "#         initial_epoch=18,\n",
        "#         validation_split=0.1,\n",
        "#         callbacks=[checkpoint_callback],\n",
        "#     )\n",
        "\n",
        "#     # Evaluate the latest model\n",
        "#     _, accuracy, top_5_accuracy = model.evaluate(x_test, y_test)\n",
        "#     print(f\"Test accuracy: {round(accuracy * 100, 2)}%\")\n",
        "#     print(f\"Test top 5 accuracy: {round(top_5_accuracy * 100, 2)}%\")\n",
        "\n",
        "#     return history\n",
        "\n",
        "# # Create the model\n",
        "# vit_classifier = create_vit_classifier()\n",
        "\n",
        "# # Run the experiment (resume_training=True to continue from a saved checkpoint)\n",
        "# history = run_experiment(vit_classifier)\n",
        "\n",
        "# # Plot the training history\n",
        "# def plot_history(item):\n",
        "#     plt.plot(history.history[item], label=item)\n",
        "#     plt.plot(history.history[\"val_\" + item], label=\"val_\" + item)\n",
        "#     plt.xlabel(\"Epochs\")\n",
        "#     plt.ylabel(item)\n",
        "#     plt.title(\"Train and Validation {} Over Epochs\".format(item), fontsize=14)\n",
        "#     plt.legend()\n",
        "#     plt.grid()\n",
        "#     plt.show()\n",
        "\n",
        "# plot_history(\"loss\")\n",
        "# plot_history(\"top-5-accuracy\")\n"
      ]
    },
    {
      "cell_type": "code",
      "source": [
        "from tensorflow.keras.models import load_model\n",
        "\n",
        "# Tạo thư mục lưu weights\n",
        "model_save_folder = \"/content/gdrive/My Drive/models\"\n",
        "os.makedirs(model_save_folder, exist_ok=True)\n",
        "\n",
        "# Tạo lại mô hình\n",
        "vit_classifier = create_vit_classifier()\n",
        "\n",
        "# Đường dẫn đến weights đã lưu\n",
        "latest_weights = os.path.join(model_save_folder, \"weights-27-0.47.weights.h5\")\n",
        "\n",
        "# Kiểm tra và tải weights nếu tồn tại\n",
        "if os.path.exists(latest_weights):\n",
        "    print(f\"Loading weights from {latest_weights}\")\n",
        "    vit_classifier.load_weights(latest_weights)\n",
        "\n",
        "# Tiếp tục huấn luyện mô hình\n",
        "def run_experiment(model):\n",
        "    optimizer = keras.optimizers.AdamW(\n",
        "        learning_rate=learning_rate, weight_decay=weight_decay\n",
        "    )\n",
        "\n",
        "    model.compile(\n",
        "        optimizer=optimizer,\n",
        "        loss=keras.losses.SparseCategoricalCrossentropy(from_logits=True),\n",
        "        metrics=[\n",
        "            keras.metrics.SparseCategoricalAccuracy(name=\"accuracy\"),\n",
        "            keras.metrics.SparseTopKCategoricalAccuracy(5, name=\"top-5-accuracy\"),\n",
        "        ],\n",
        "    )\n",
        "\n",
        "    # Define callback for saving weights\n",
        "    checkpoint_filepath = os.path.join(model_save_folder, \"weights-{epoch:02d}-{val_accuracy:.2f}.weights.h5\")\n",
        "    checkpoint_callback = keras.callbacks.ModelCheckpoint(\n",
        "        filepath=checkpoint_filepath,\n",
        "        monitor=\"val_accuracy\",\n",
        "        save_best_only=False,\n",
        "        save_weights_only=True,\n",
        "    )\n",
        "\n",
        "    # Huấn luyện tiếp từ epoch 10\n",
        "    history = model.fit(\n",
        "        x=x_train,\n",
        "        y=y_train,\n",
        "        batch_size=batch_size,\n",
        "        epochs=50,  # Số epoch tổng cộng\n",
        "        initial_epoch=27,  # Epoch bắt đầu (sau khi tải weights)\n",
        "        validation_split=0.1,\n",
        "        callbacks=[checkpoint_callback],\n",
        "    )\n",
        "\n",
        "    # Đánh giá mô hình sau khi huấn luyện\n",
        "    _, accuracy, top_5_accuracy = model.evaluate(x_test, y_test)\n",
        "    print(f\"Test accuracy: {round(accuracy * 100, 2)}%\")\n",
        "    print(f\"Test top 5 accuracy: {round(top_5_accuracy * 100, 2)}%\")\n",
        "\n",
        "    return history\n",
        "\n",
        "# Chạy thí nghiệm và tiếp tục huấn luyện\n",
        "history = run_experiment(vit_classifier)\n",
        "\n",
        "# Vẽ biểu đồ lịch sử huấn luyện\n",
        "def plot_history(item):\n",
        "    plt.plot(history.history[item], label=item)\n",
        "    plt.plot(history.history[\"val_\" + item], label=\"val_\" + item)\n",
        "    plt.xlabel(\"Epochs\")\n",
        "    plt.ylabel(item)\n",
        "    plt.title(\"Train and Validation {} Over Epochs\".format(item), fontsize=14)\n",
        "    plt.legend()\n",
        "    plt.grid()\n",
        "    plt.show()\n",
        "\n",
        "plot_history(\"loss\")\n",
        "plot_history(\"accuracy\")\n",
        "plot_history(\"top-5-accuracy\")\n"
      ],
      "metadata": {
        "colab": {
          "base_uri": "https://localhost:8080/"
        },
        "id": "OVeiwTCAY8vu",
        "outputId": "7fe64d50-fae4-483c-bf17-4f46120b63a2"
      },
      "execution_count": null,
      "outputs": [
        {
          "output_type": "stream",
          "name": "stdout",
          "text": [
            "Loading weights from /content/gdrive/My Drive/models/weights-27-0.47.weights.h5\n",
            "Epoch 28/50\n",
            "\u001b[1m126/176\u001b[0m \u001b[32m━━━━━━━━━━━━━━\u001b[0m\u001b[37m━━━━━━\u001b[0m \u001b[1m26:10\u001b[0m 31s/step - accuracy: 0.5023 - loss: 1.8209 - top-5-accuracy: 0.8051"
          ]
        }
      ]
    }
  ],
  "metadata": {
    "accelerator": "GPU",
    "colab": {
      "name": "image_classification_with_vision_transformer",
      "provenance": [],
      "gpuType": "T4"
    },
    "kernelspec": {
      "display_name": "Python 3",
      "name": "python3"
    },
    "language_info": {
      "codemirror_mode": {
        "name": "ipython",
        "version": 3
      },
      "file_extension": ".py",
      "mimetype": "text/x-python",
      "name": "python",
      "nbconvert_exporter": "python",
      "pygments_lexer": "ipython3",
      "version": "3.7.0"
    }
  },
  "nbformat": 4,
  "nbformat_minor": 0
}